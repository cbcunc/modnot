{
 "cells": [
  {
   "cell_type": "code",
   "execution_count": 1,
   "metadata": {
    "collapsed": false
   },
   "outputs": [],
   "source": [
    "import ipympl\n",
    "from ipywidgets import *\n",
    "\n",
    "from pylab import *\n",
    "import matplotlib.tri as Tri\n",
    "import matplotlib.pyplot as plt\n",
    "from mpl_toolkits.basemap import Basemap\n",
    "\n",
    "import h5py\n",
    "import numpy as np\n",
    "import numpy.matlib as ml\n",
    "import numpy.linalg as la\n",
    "import numpy.ma as ma\n",
    "\n",
    "from central_ckv import central_ckv"
   ]
  },
  {
   "cell_type": "code",
   "execution_count": 2,
   "metadata": {
    "collapsed": true
   },
   "outputs": [],
   "source": [
    "# import matlab .mat file into python\n",
    "# get the model in a matlab file, stored as -v7.3\n",
    "# the model components must be saved as individual variables, \n",
    "# not as a struct.  See the matlab code structfields2vars\n",
    "mf='temp3.mat';\n",
    "\n",
    "f = h5py.File(mf, \"r\")"
   ]
  },
  {
   "cell_type": "code",
   "execution_count": 3,
   "metadata": {
    "collapsed": false
   },
   "outputs": [],
   "source": [
    "c=np.squeeze(f['c'][:])\n",
    "k=np.squeeze(f['k'][:])\n",
    "Nd=np.squeeze(f['n_d'][:])\n",
    "P=np.transpose(f['P'][:])\n",
    "R=np.transpose(f['R'][:])\n",
    "weights=np.squeeze(f['weights'][:])\n",
    "index=np.squeeze(f['index'][:])\n",
    "xtest=np.array([ 66.8, 1.06, 7.5, 38, 5.23, 5.25])\n",
    "xtest=np.squeeze(np.transpose(xtest))\n",
    "\n",
    "rmw=xtest[0]\n",
    "H_b=xtest[1]\n",
    "TS=xtest[2]\n",
    "Vmax=xtest[3]\n",
    "LatNorth=xtest[4]\n",
    "LatSouth=xtest[5]\n",
    "\n",
    "p1min=np.min(P[:,0])*1.1; p1max=np.max(P[:,0])*0.9   # rmw\n",
    "p2min=np.min(P[:,1])*1.1; p2max=np.max(P[:,1])*0.9   # H_b\n",
    "p3min=np.min(P[:,2])*1.1; p3max=np.max(P[:,2])*0.9   # TS\n",
    "p4min=np.min(P[:,3])*1.1; p4max=np.max(P[:,3])*0.9   # Vmax\n",
    "p5min=np.min(P[:,4])*1.1; p5max=np.max(P[:,4])*0.9   # LatNorth\n",
    "p6min=np.min(P[:,5])*1.1; p6max=np.max(P[:,5])*0.9   # LatSouth\n",
    "\n",
    "dp1=(p1max-p1min)/20\n",
    "dp2=(p2max-p2min)/20\n",
    "dp3=(p3max-p3min)/20\n",
    "dp4=(p4max-p4min)/20\n",
    "dp5=(p5max-p5min)/20\n",
    "dp6=(p6max-p6min)/20\n",
    "\n",
    "# get the FEM grid parts from f to create a triangulation object\n",
    "lon = np.squeeze(f['x'][:])\n",
    "lat = np.squeeze(f['y'][:])\n",
    "latmin = np.mean(lat)  # needed for scaling lon/lat plots\n",
    "nv  = np.squeeze(f['e'][:,:] -1)\n",
    "nv=np.transpose(nv)\n",
    "triangulation = Tri.Triangulation(lon,lat, triangles=nv)\n",
    "\n",
    "NodeIndices=np.squeeze(f['NodeIndices'][:])\n",
    "NodeIndices=(NodeIndices-1).astype(int)"
   ]
  },
  {
   "cell_type": "code",
   "execution_count": 4,
   "metadata": {
    "collapsed": false
   },
   "outputs": [],
   "source": [
    "lon_offset=-82\n",
    "\n",
    "xtest=np.array([rmw,H_b,TS,Vmax,LatNorth,LatSouth])\n",
    "temp=central_ckv(P,R,c,k,weights,Nd,index,xtest)\n",
    "vmin=0\n",
    "vmax=5\n",
    "levels = linspace(vmin,vmax,11)\n",
    "\n",
    "# put response into variable sized as lon.shape\n",
    "zhat=ma.array(np.zeros(triangulation.x.shape))\n",
    "zhat[:]=zhat.fill_value\n",
    "zhat[NodeIndices]=temp\n",
    "zhat[zhat<0]=0\n",
    "\n",
    "fig = plt.figure(\"RSM Test\", figsize=(5,3), dpi=144);\n",
    "ax = fig.add_axes([0.0, 0.1, 0.8, 0.8]) \n",
    "ax.set_aspect(1.0/np.cos(latmin * np.pi / 180.0))\n",
    "m = Basemap(projection='cyl', llcrnrlon=-80.0, llcrnrlat=33.0, urcrnrlon=-74.0, urcrnrlat=37.0,\n",
    "            lat_0=35.0, lon_0=-77.0, resolution='i')\n",
    "\n",
    "contour = m.contourf(lon, lat, zhat, triangles=nv, ax=ax,tri=True, levels=levels, shading='faceted', alpha=0.5)\n",
    "m.drawcoastlines()\n",
    "m.drawstates()\n",
    "m.drawrivers()\n",
    "m.warpimage()\n",
    "\n",
    "plt.grid(True)\n",
    "plt.xlim((-80,-74))\n",
    "plt.ylim((33,37))\n",
    "plt.tick_params(axis='both', which='major', labelsize=8)\n",
    "plt.plot([-80, -70],[33.5,33.5],'g-')\n",
    "plt.plot([-80, -70],[36.0,36.0],'g-')\n",
    "plt.plot([LatSouth+lon_offset],[33.5],'r*-')\n",
    "plt.plot([LatNorth+lon_offset],[36.0],'r*-')\n",
    "plt.plot([LatNorth+lon_offset, LatSouth+lon_offset],[36.0,33.5],'y-')\n",
    "\n",
    "# add colorbar\n",
    "cbax = fig.add_axes([0.75, 0.1, 0.05, 0.8]) \n",
    "cb = plt.colorbar(contour, cax=cbax,  orientation='vertical')\n",
    "cb.set_label('[m MSL]', fontsize=8)\n",
    "cb.ax.tick_params(axis='both', which='major', labelsize=8)\n",
    "\n",
    "fig_canvas = plt.gcf().canvas"
   ]
  },
  {
   "cell_type": "code",
   "execution_count": 5,
   "metadata": {
    "collapsed": true
   },
   "outputs": [],
   "source": [
    "rmw_slider      = FloatSlider(min=p1min,max=p1max,step=dp1,value=rmw)\n",
    "H_b_slider      = FloatSlider(min=p2min,max=p2max,step=dp2,value=H_b)\n",
    "TS_slider       = FloatSlider(min=p3min,max=p3max,step=dp3,value=TS)\n",
    "Vmax_slider     = FloatSlider(min=p4min,max=p4max,step=dp4,value=Vmax)\n",
    "LatNorth_slider = FloatSlider(min=p5min,max=p5max,step=dp5,value=LatNorth)\n",
    "LatSouth_slider = FloatSlider(min=p6min,max=p6max,step=dp6,value=LatSouth)"
   ]
  },
  {
   "cell_type": "code",
   "execution_count": 6,
   "metadata": {
    "collapsed": true
   },
   "outputs": [],
   "source": [
    "def update_contour():\n",
    "    global contour, cb\n",
    "\n",
    "    xtest=np.array([rmw,H_b,TS,Vmax,LatNorth,LatSouth])\n",
    "    temp=central_ckv(P,R,c,k,weights,Nd,index,xtest)\n",
    "\n",
    "    # put response into variable sized as lon.shape\n",
    "    zhat=ma.array(np.zeros(triangulation.x.shape))\n",
    "    zhat[:]=zhat.fill_value\n",
    "    zhat[NodeIndices]=temp\n",
    "    zhat[zhat<0]=0\n",
    "\n",
    "    for thing in contour.collections:\n",
    "        thing.remove()\n",
    "    contour = m.contourf(lon, lat, zhat, triangles=nv, ax=ax,tri=True, levels=levels, shading='faceted')\n",
    "    \n",
    "def update_vmax(change):\n",
    "    global Vmax\n",
    "    Vmax = change['new']\n",
    "    update_contour()\n",
    "    fig_canvas.draw_idle()\n",
    "\n",
    "Vmax_slider.observe(update_vmax, names=[\"value\"])"
   ]
  },
  {
   "cell_type": "code",
   "execution_count": 7,
   "metadata": {
    "collapsed": false
   },
   "outputs": [],
   "source": [
    "slider_box = VBox([rmw_slider,H_b_slider,TS_slider,Vmax_slider,LatNorth_slider,LatSouth_slider])\n",
    "HBox([fig_canvas, slider_box])"
   ]
  },
  {
   "cell_type": "code",
   "execution_count": null,
   "metadata": {
    "collapsed": false
   },
   "outputs": [],
   "source": []
  }
 ],
 "metadata": {
  "anaconda-cloud": {},
  "kernelspec": {
   "display_name": "Python [widgets]",
   "language": "python",
   "name": "Python [widgets]"
  },
  "language_info": {
   "codemirror_mode": {
    "name": "ipython",
    "version": 3
   },
   "file_extension": ".py",
   "mimetype": "text/x-python",
   "name": "python",
   "nbconvert_exporter": "python",
   "pygments_lexer": "ipython3",
   "version": "3.5.2"
  },
  "widgets": {
   "state": {
    "ecb17f094e9b49d599597d5da228c1f6": {
     "views": [
      {
       "cell_index": 6
      }
     ]
    }
   },
   "version": "1.2.0"
  }
 },
 "nbformat": 4,
 "nbformat_minor": 0
}
