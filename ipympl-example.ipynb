{
 "cells": [
  {
   "cell_type": "code",
   "execution_count": 3,
   "metadata": {
    "collapsed": false
   },
   "outputs": [],
   "source": [
    "import ipympl\n",
    "import matplotlib.pyplot as plt\n",
    "from ipywidgets import HBox, IntSlider\n",
    "\n",
    "plt.plot([0, 1, 2, 2])\n",
    "fig = plt.gcf()\n",
    "\n",
    "x = [IntSlider(orientation='vertical') for i in range(5)]\n",
    "HBox([fig.canvas] + x)"
   ]
  },
  {
   "cell_type": "code",
   "execution_count": 14,
   "metadata": {
    "collapsed": false
   },
   "outputs": [],
   "source": [
    "\n",
    "from ipywidgets import *\n",
    "import numpy as np\n",
    "import ipympl\n",
    "import matplotlib.pyplot as plt\n",
    "\n",
    "plt.figure()\n",
    "line, = plt.plot([1,2,3,4,5])\n",
    "fig_canvas = plt.gcf().canvas\n",
    "\n",
    "s1 = FloatSlider()\n",
    "s2 = Text()\n",
    "def foo(change):\n",
    "    line.set_ydata(np.random.randn(5) + 3)\n",
    "    fig_canvas.draw_idle()\n",
    "\n",
    "s1.observe(foo, names=['value'])\n",
    "\n",
    "vbox = VBox([s1, s2])\n",
    "HBox([fig_canvas, vbox])\n"
   ]
  },
  {
   "cell_type": "code",
   "execution_count": null,
   "metadata": {
    "collapsed": true
   },
   "outputs": [],
   "source": []
  }
 ],
 "metadata": {
  "anaconda-cloud": {},
  "kernelspec": {
   "display_name": "Python [widgets]",
   "language": "python",
   "name": "Python [widgets]"
  },
  "language_info": {
   "codemirror_mode": {
    "name": "ipython",
    "version": 3
   },
   "file_extension": ".py",
   "mimetype": "text/x-python",
   "name": "python",
   "nbconvert_exporter": "python",
   "pygments_lexer": "ipython3",
   "version": "3.5.2"
  },
  "widgets": {
   "state": {
    "0411a232c5a64175a245f579c0b47fb5": {
     "views": [
      {
       "cell_index": 1
      }
     ]
    },
    "8c645428a30148c3b9cc659078c85524": {
     "views": [
      {
       "cell_index": 0
      }
     ]
    }
   },
   "version": "1.2.0"
  }
 },
 "nbformat": 4,
 "nbformat_minor": 0
}
